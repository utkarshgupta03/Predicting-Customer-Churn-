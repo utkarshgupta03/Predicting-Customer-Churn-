{
 "cells": [
  {
   "cell_type": "markdown",
   "id": "0f846f0e",
   "metadata": {},
   "source": [
    "# 📍 Market Research: Regional Product Preferences Analysis"
   ]
  },
  {
   "cell_type": "markdown",
   "id": "54351963",
   "metadata": {},
   "source": [
    "\n",
    "### 🎯 Scenario:\n",
    "A retail chain wants to understand regional preferences.\n",
    "\n",
    "**Data:**  \n",
    "Demographics, income levels, product preferences by geographic area\n",
    "\n",
    "**Goal:**  \n",
    "Identify distinct market segments for location-specific inventory planning.\n"
   ]
  },
  {
   "cell_type": "markdown",
   "id": "eb0c1f55",
   "metadata": {},
   "source": [
    "### 📌 1. Import Libraries"
   ]
  },
  {
   "cell_type": "code",
   "execution_count": null,
   "id": "0c3bba04",
   "metadata": {},
   "outputs": [],
   "source": [
    "\n",
    "import pandas as pd\n",
    "import matplotlib.pyplot as plt\n",
    "import seaborn as sns\n",
    "\n",
    "# Optional: style for better plots\n",
    "sns.set(style=\"whitegrid\")\n"
   ]
  },
  {
   "cell_type": "markdown",
   "id": "d990fa5e",
   "metadata": {},
   "source": [
    "### 📌 2. Load Your Data"
   ]
  },
  {
   "cell_type": "code",
   "execution_count": null,
   "id": "b42baa4d",
   "metadata": {},
   "outputs": [],
   "source": [
    "\n",
    "data = {\n",
    "    'Region': ['North', 'South', 'East', 'West', 'Central', 'North', 'South', 'East', 'West', 'Central'],\n",
    "    'Age': [35, 42, 29, 50, 38, 33, 45, 31, 48, 36],\n",
    "    'IncomeLevel': [55000, 62000, 48000, 70000, 59000, 53000, 64000, 47000, 68000, 60000],\n",
    "    'PreferredProduct': ['Electronics', 'Groceries', 'Clothing', 'Furniture', 'Groceries',\n",
    "                         'Electronics', 'Groceries', 'Clothing', 'Furniture', 'Groceries'],\n",
    "    'SpendingScore': [70, 85, 60, 90, 75, 68, 88, 58, 92, 77]\n",
    "}\n",
    "\n",
    "df = pd.DataFrame(data)\n",
    "df\n"
   ]
  },
  {
   "cell_type": "markdown",
   "id": "b3721f0f",
   "metadata": {},
   "source": [
    "### 📌 3. Overview: Summary Statistics"
   ]
  },
  {
   "cell_type": "code",
   "execution_count": null,
   "id": "75e27347",
   "metadata": {},
   "outputs": [],
   "source": [
    "df.describe()"
   ]
  },
  {
   "cell_type": "markdown",
   "id": "06f20825",
   "metadata": {},
   "source": [
    "### 📌 4. Product Preference by Region (Bar Chart)"
   ]
  },
  {
   "cell_type": "code",
   "execution_count": null,
   "id": "f3c1f680",
   "metadata": {},
   "outputs": [],
   "source": [
    "\n",
    "plt.figure(figsize=(10,6))\n",
    "sns.countplot(data=df, x='Region', hue='PreferredProduct', palette='Set2')\n",
    "plt.title('Preferred Products by Region')\n",
    "plt.xlabel('Region')\n",
    "plt.ylabel('Number of Customers')\n",
    "plt.legend(title='Product')\n",
    "plt.show()\n"
   ]
  },
  {
   "cell_type": "markdown",
   "id": "3f23abcb",
   "metadata": {},
   "source": [
    "### 📌 5. Spending Score by Region (Box Plot)"
   ]
  },
  {
   "cell_type": "code",
   "execution_count": null,
   "id": "9b30f275",
   "metadata": {},
   "outputs": [],
   "source": [
    "\n",
    "plt.figure(figsize=(10,6))\n",
    "sns.boxplot(data=df, x='Region', y='SpendingScore', palette='coolwarm')\n",
    "plt.title('Spending Score Distribution by Region')\n",
    "plt.show()\n"
   ]
  },
  {
   "cell_type": "markdown",
   "id": "d5cf9239",
   "metadata": {},
   "source": [
    "### 📌 6. Average Income by Preferred Product"
   ]
  },
  {
   "cell_type": "code",
   "execution_count": null,
   "id": "906655c7",
   "metadata": {},
   "outputs": [],
   "source": [
    "\n",
    "plt.figure(figsize=(10,6))\n",
    "sns.barplot(data=df, x='PreferredProduct', y='IncomeLevel', palette='viridis')\n",
    "plt.title('Average Income per Product Preference')\n",
    "plt.show()\n"
   ]
  },
  {
   "cell_type": "markdown",
   "id": "219b9055",
   "metadata": {},
   "source": [
    "### 📌 7. Age vs Spending Score (Colored by Region)"
   ]
  },
  {
   "cell_type": "code",
   "execution_count": null,
   "id": "2095d9e9",
   "metadata": {},
   "outputs": [],
   "source": [
    "\n",
    "plt.figure(figsize=(10,6))\n",
    "sns.scatterplot(data=df, x='Age', y='SpendingScore', hue='Region', size='IncomeLevel', sizes=(40, 200), palette='tab10')\n",
    "plt.title('Age vs Spending Score (Region-colored)')\n",
    "plt.xlabel('Age')\n",
    "plt.ylabel('Spending Score')\n",
    "plt.show()\n"
   ]
  },
  {
   "cell_type": "markdown",
   "id": "c05bd9f9",
   "metadata": {},
   "source": [
    "### 🧠 📊 Interpretation & Outcome"
   ]
  },
  {
   "cell_type": "markdown",
   "id": "1b878879",
   "metadata": {},
   "source": [
    "\n",
    "| Segment | Characteristics | Inventory Suggestion |\n",
    "|---------|------------------|-----------------------|\n",
    "| **North** | 30s, mid-income, prefer Electronics | Increase stock of Electronics |\n",
    "| **South** | 40s, high-income, prefer Groceries | Focus on premium Grocery items |\n",
    "| **East** | Young & low-income, prefer Clothing | Offer affordable fashion |\n",
    "| **West** | Older, wealthy, high spenders | Emphasize Furniture and lifestyle |\n",
    "| **Central** | Mixed ages, good spending, prefer Groceries | Diverse groceries with regional flavors |\n"
   ]
  }
 ],
 "metadata": {},
 "nbformat": 4,
 "nbformat_minor": 5
}
